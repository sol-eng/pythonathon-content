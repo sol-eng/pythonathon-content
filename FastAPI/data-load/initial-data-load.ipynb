{
 "cells": [
  {
   "cell_type": "markdown",
   "id": "702ae338-f460-45ca-b7fa-6f33ffc26573",
   "metadata": {},
   "source": [
    "## Initial Data Load\n",
    "\n",
    "From https://dev.socrata.com/foundry/data.seattle.gov/4xy5-26gy"
   ]
  },
  {
   "cell_type": "code",
   "execution_count": 29,
   "id": "147d8d65-9c4a-4798-a5b1-f65cfaceebd3",
   "metadata": {},
   "outputs": [
    {
     "data": {
      "text/plain": [
       "True"
      ]
     },
     "execution_count": 29,
     "metadata": {},
     "output_type": "execute_result"
    }
   ],
   "source": [
    "import pandas as pd\n",
    "import pyodbc\n",
    "import os\n",
    "import snowflake.connector\n",
    "from sodapy import Socrata\n",
    "from sqlalchemy import types, create_engine\n",
    "from dotenv import load_dotenv\n",
    "from snowflake.connector.pandas_tools import write_pandas\n",
    "\n",
    "load_dotenv()"
   ]
  },
  {
   "cell_type": "markdown",
   "id": "60dffe5e-6942-4883-8589-bf1536dabda2",
   "metadata": {},
   "source": [
    "Fetch data using `Socrata`"
   ]
  },
  {
   "cell_type": "code",
   "execution_count": 2,
   "id": "45b40a9d-c877-49a4-bcc3-5a1466a21efe",
   "metadata": {},
   "outputs": [],
   "source": [
    "client = Socrata(\"data.seattle.gov\", \"lLbrAiAvALo3nTwseiBdQ4zWS\")\n",
    "results = client.get(\"65db-xm6k\", limit = 200000)"
   ]
  },
  {
   "cell_type": "markdown",
   "id": "7f73c7de-9d32-43e9-b6dc-4e20a3c40508",
   "metadata": {},
   "source": [
    "Convert results to pandas DataFrame"
   ]
  },
  {
   "cell_type": "code",
   "execution_count": 3,
   "id": "221b16bf-8bb5-4a99-a875-42a95b52b475",
   "metadata": {},
   "outputs": [],
   "source": [
    "results_df = pd.DataFrame.from_records(results)"
   ]
  },
  {
   "cell_type": "code",
   "execution_count": 4,
   "id": "161ee7fd-698f-40c3-bacf-c10a26448332",
   "metadata": {},
   "outputs": [
    {
     "data": {
      "text/html": [
       "<div>\n",
       "<style scoped>\n",
       "    .dataframe tbody tr th:only-of-type {\n",
       "        vertical-align: middle;\n",
       "    }\n",
       "\n",
       "    .dataframe tbody tr th {\n",
       "        vertical-align: top;\n",
       "    }\n",
       "\n",
       "    .dataframe thead th {\n",
       "        text-align: right;\n",
       "    }\n",
       "</style>\n",
       "<table border=\"1\" class=\"dataframe\">\n",
       "  <thead>\n",
       "    <tr style=\"text-align: right;\">\n",
       "      <th></th>\n",
       "      <th>date</th>\n",
       "      <th>fremont_bridge</th>\n",
       "      <th>fremont_bridge_sb</th>\n",
       "      <th>fremont_bridge_nb</th>\n",
       "    </tr>\n",
       "  </thead>\n",
       "  <tbody>\n",
       "    <tr>\n",
       "      <th>0</th>\n",
       "      <td>2021-04-30T23:00:00.000</td>\n",
       "      <td>36</td>\n",
       "      <td>12</td>\n",
       "      <td>24</td>\n",
       "    </tr>\n",
       "    <tr>\n",
       "      <th>1</th>\n",
       "      <td>2021-04-30T22:00:00.000</td>\n",
       "      <td>34</td>\n",
       "      <td>13</td>\n",
       "      <td>21</td>\n",
       "    </tr>\n",
       "    <tr>\n",
       "      <th>2</th>\n",
       "      <td>2021-04-30T21:00:00.000</td>\n",
       "      <td>34</td>\n",
       "      <td>14</td>\n",
       "      <td>20</td>\n",
       "    </tr>\n",
       "    <tr>\n",
       "      <th>3</th>\n",
       "      <td>2021-04-30T20:00:00.000</td>\n",
       "      <td>65</td>\n",
       "      <td>27</td>\n",
       "      <td>38</td>\n",
       "    </tr>\n",
       "    <tr>\n",
       "      <th>4</th>\n",
       "      <td>2021-04-30T19:00:00.000</td>\n",
       "      <td>139</td>\n",
       "      <td>64</td>\n",
       "      <td>75</td>\n",
       "    </tr>\n",
       "    <tr>\n",
       "      <th>...</th>\n",
       "      <td>...</td>\n",
       "      <td>...</td>\n",
       "      <td>...</td>\n",
       "      <td>...</td>\n",
       "    </tr>\n",
       "    <tr>\n",
       "      <th>141417</th>\n",
       "      <td>2012-10-03T02:00:00.000</td>\n",
       "      <td>2</td>\n",
       "      <td>1</td>\n",
       "      <td>1</td>\n",
       "    </tr>\n",
       "    <tr>\n",
       "      <th>141418</th>\n",
       "      <td>2012-10-03T01:00:00.000</td>\n",
       "      <td>10</td>\n",
       "      <td>4</td>\n",
       "      <td>6</td>\n",
       "    </tr>\n",
       "    <tr>\n",
       "      <th>141419</th>\n",
       "      <td>2012-10-03T01:00:00.000</td>\n",
       "      <td>10</td>\n",
       "      <td>4</td>\n",
       "      <td>6</td>\n",
       "    </tr>\n",
       "    <tr>\n",
       "      <th>141420</th>\n",
       "      <td>2012-10-03T00:00:00.000</td>\n",
       "      <td>13</td>\n",
       "      <td>4</td>\n",
       "      <td>9</td>\n",
       "    </tr>\n",
       "    <tr>\n",
       "      <th>141421</th>\n",
       "      <td>2012-10-03T00:00:00.000</td>\n",
       "      <td>13</td>\n",
       "      <td>4</td>\n",
       "      <td>9</td>\n",
       "    </tr>\n",
       "  </tbody>\n",
       "</table>\n",
       "<p>141422 rows × 4 columns</p>\n",
       "</div>"
      ],
      "text/plain": [
       "                           date fremont_bridge fremont_bridge_sb  \\\n",
       "0       2021-04-30T23:00:00.000             36                12   \n",
       "1       2021-04-30T22:00:00.000             34                13   \n",
       "2       2021-04-30T21:00:00.000             34                14   \n",
       "3       2021-04-30T20:00:00.000             65                27   \n",
       "4       2021-04-30T19:00:00.000            139                64   \n",
       "...                         ...            ...               ...   \n",
       "141417  2012-10-03T02:00:00.000              2                 1   \n",
       "141418  2012-10-03T01:00:00.000             10                 4   \n",
       "141419  2012-10-03T01:00:00.000             10                 4   \n",
       "141420  2012-10-03T00:00:00.000             13                 4   \n",
       "141421  2012-10-03T00:00:00.000             13                 4   \n",
       "\n",
       "       fremont_bridge_nb  \n",
       "0                     24  \n",
       "1                     21  \n",
       "2                     20  \n",
       "3                     38  \n",
       "4                     75  \n",
       "...                  ...  \n",
       "141417                 1  \n",
       "141418                 6  \n",
       "141419                 6  \n",
       "141420                 9  \n",
       "141421                 9  \n",
       "\n",
       "[141422 rows x 4 columns]"
      ]
     },
     "execution_count": 4,
     "metadata": {},
     "output_type": "execute_result"
    }
   ],
   "source": [
    "results_df"
   ]
  },
  {
   "cell_type": "code",
   "execution_count": 5,
   "id": "dc41cdb8-77e8-4979-b8b0-e91a6fc06d9d",
   "metadata": {},
   "outputs": [
    {
     "data": {
      "text/plain": [
       "(141422, 4)"
      ]
     },
     "execution_count": 5,
     "metadata": {},
     "output_type": "execute_result"
    }
   ],
   "source": [
    "results_df.shape"
   ]
  },
  {
   "cell_type": "markdown",
   "id": "5ed0a103-a981-4928-8228-8c90eeb4ce42",
   "metadata": {},
   "source": [
    "### ODBC\n",
    "\n",
    "Connect to Snowflake ODBC DSN. I _think_ the way to do this is with SQLAlchemy.\n",
    "\n",
    "References:\n",
    "* https://docs.snowflake.com/en/user-guide/sqlalchemy.html#verifying-your-installation"
   ]
  },
  {
   "cell_type": "code",
   "execution_count": 19,
   "id": "6e90083f-e059-49e2-87df-fb66378a6c5e",
   "metadata": {},
   "outputs": [],
   "source": [
    "engine = create_engine(\n",
    "    'snowflake://{user}:{password}@{account}/{database}/{schema}'.format(\n",
    "        user=os.environ.get('uid'),\n",
    "        password=os.environ.get('pwd'),\n",
    "        account=os.environ.get('account'),\n",
    "        database='PYTHONATHON',\n",
    "        schema=\"CONTENT\"\n",
    "    )\n",
    ")"
   ]
  },
  {
   "cell_type": "markdown",
   "id": "3df15029-5b7c-459f-8ffb-8d1f0beaa52e",
   "metadata": {},
   "source": [
    "Verify that the connection can be made"
   ]
  },
  {
   "cell_type": "code",
   "execution_count": 20,
   "id": "e321bc0d-69e8-42ce-a8b7-e2eedc3bc839",
   "metadata": {},
   "outputs": [
    {
     "name": "stdout",
     "output_type": "stream",
     "text": [
      "CONTENT\n"
     ]
    }
   ],
   "source": [
    "try:\n",
    "    connection = engine.connect()\n",
    "    results = connection.execute('select current_schema()').fetchone()\n",
    "    print(results[0])\n",
    "finally:\n",
    "    connection.close()\n",
    "    engine.dispose()"
   ]
  },
  {
   "cell_type": "markdown",
   "id": "385c624e-098d-423b-8c7f-5bc64307efd8",
   "metadata": {},
   "source": [
    "Try writing the pandas DataFrame into the DB\n",
    "\n",
    "* First try with SQLAlchemy\n",
    "* Snowflake doesn't support indexes?\n",
    "* Maximum number of expressions allows is 16,384, hence the chunksize\n",
    "* It doesn't look like SQLAlchemy infers column types. They need to be specifically passed via the `dtype` param\n",
    "    * To figure out how to pass the proper types, I followed this SO post: https://stackoverflow.com/questions/55801668/the-type-of-field-is-not-a-sqlalchemy-type-with-pandas-to-sql-to-an-oracle-dat"
   ]
  },
  {
   "cell_type": "code",
   "execution_count": 31,
   "id": "4e31eb17-d055-45cb-ad9b-f7817cd01edc",
   "metadata": {},
   "outputs": [],
   "source": [
    "conn = engine.connect()\n",
    "col_types = dict(zip(results_df.columns.to_list(), (types.DateTime(), types.Integer(), types.Integer(), types.Integer(), types.Integer())))\n",
    "results_df.to_sql(name = \"bike_count\",\n",
    "                 con = conn,\n",
    "                 if_exists = \"replace\",\n",
    "                 index = False,\n",
    "                 chunksize = 16000,\n",
    "                 dtype = col_types)"
   ]
  },
  {
   "cell_type": "markdown",
   "id": "a20bccec-3951-4f82-908d-56657dc8b8dd",
   "metadata": {},
   "source": [
    "The above chunk worked to create and write a new table **with the proper data types**. This was done using `SQLAlchemy` and the `pandas` `to_sql()` method. The below attempt using Snowflake's data connector didn't work due to the following:\n",
    "* It appears the table has to be already created before the Snowflake connector can write to it. In the abolve `SQLAlchemy` example, `if_exists` can be used similar to R's `overwrite` argument.\n",
    "* Once the table was created, there were issues getting data written into it. I stopped fighting with it and just came back to `SQLAlchemy`. The issues may have been caused by incorrectly specifying the datatype for the `date` column"
   ]
  },
  {
   "cell_type": "code",
   "execution_count": null,
   "id": "bac929cd-2344-47be-a338-5f3c90b664bf",
   "metadata": {},
   "outputs": [],
   "source": [
    "conn = snowflake.connector.connect(\n",
    "    user = os.environ.get('uid'),\n",
    "    password = os.environ.get('pwd'),\n",
    "    account = os.environ.get('account'),\n",
    "    database = 'PYTHONATHON',\n",
    "    schema = \"CONTENT\"\n",
    ")\n",
    "\n",
    "cur = conn.cursor()"
   ]
  },
  {
   "cell_type": "code",
   "execution_count": null,
   "id": "df5a2e74-ead0-4ae4-a929-57f8c0de1b92",
   "metadata": {
    "tags": []
   },
   "outputs": [],
   "source": [
    "cur.execute(\"SELECT current_database();\")\n",
    "cur.fetchone()[0]"
   ]
  },
  {
   "cell_type": "code",
   "execution_count": 34,
   "id": "c7e206b9-33c3-4916-ac3a-85641043c5ea",
   "metadata": {},
   "outputs": [
    {
     "data": {
      "text/plain": [
       "<snowflake.connector.cursor.SnowflakeCursor at 0x7fe5c1f7d250>"
      ]
     },
     "execution_count": 34,
     "metadata": {},
     "output_type": "execute_result"
    }
   ],
   "source": [
    "sql = \"DROP TABLE IF EXISTS BIKE_COUNT; CREATE TABLE BIKE_COUNT (date DATETIME, fremont_bridge NUMBER, fremont_bridge_sb NUMBER, fremont_bridge_nb NUMBER);\" \n",
    "cur.execute(sql)"
   ]
  },
  {
   "cell_type": "code",
   "execution_count": 35,
   "id": "66757ef8-9020-4df1-9a49-e532c6806a15",
   "metadata": {},
   "outputs": [
    {
     "ename": "ProgrammingError",
     "evalue": "000904 (42000): SQL compilation error: error line 1 at position 85\ninvalid identifier '\"date\"'",
     "output_type": "error",
     "traceback": [
      "\u001b[0;31m---------------------------------------------------------------------------\u001b[0m",
      "\u001b[0;31mProgrammingError\u001b[0m                          Traceback (most recent call last)",
      "\u001b[0;32m<ipython-input-35-f3ba05a51650>\u001b[0m in \u001b[0;36m<module>\u001b[0;34m\u001b[0m\n\u001b[0;32m----> 1\u001b[0;31m \u001b[0mwrite_pandas\u001b[0m\u001b[0;34m(\u001b[0m\u001b[0mconn\u001b[0m\u001b[0;34m,\u001b[0m \u001b[0mresults_df\u001b[0m\u001b[0;34m,\u001b[0m \u001b[0;34m\"BIKE_COUNT\"\u001b[0m\u001b[0;34m)\u001b[0m\u001b[0;34m\u001b[0m\u001b[0;34m\u001b[0m\u001b[0m\n\u001b[0m",
      "\u001b[0;32m~/.local/lib/python3.9/site-packages/snowflake/connector/pandas_tools.py\u001b[0m in \u001b[0;36mwrite_pandas\u001b[0;34m(conn, df, table_name, database, schema, chunk_size, compression, on_error, parallel, quote_identifiers)\u001b[0m\n\u001b[1;32m    195\u001b[0m     )\n\u001b[1;32m    196\u001b[0m     \u001b[0mlogger\u001b[0m\u001b[0;34m.\u001b[0m\u001b[0mdebug\u001b[0m\u001b[0;34m(\u001b[0m\u001b[0;34m\"copying into with '{}'\"\u001b[0m\u001b[0;34m.\u001b[0m\u001b[0mformat\u001b[0m\u001b[0;34m(\u001b[0m\u001b[0mcopy_into_sql\u001b[0m\u001b[0;34m)\u001b[0m\u001b[0;34m)\u001b[0m\u001b[0;34m\u001b[0m\u001b[0;34m\u001b[0m\u001b[0m\n\u001b[0;32m--> 197\u001b[0;31m     \u001b[0mcopy_results\u001b[0m \u001b[0;34m=\u001b[0m \u001b[0mcursor\u001b[0m\u001b[0;34m.\u001b[0m\u001b[0mexecute\u001b[0m\u001b[0;34m(\u001b[0m\u001b[0mcopy_into_sql\u001b[0m\u001b[0;34m,\u001b[0m \u001b[0m_is_internal\u001b[0m\u001b[0;34m=\u001b[0m\u001b[0;32mTrue\u001b[0m\u001b[0;34m)\u001b[0m\u001b[0;34m.\u001b[0m\u001b[0mfetchall\u001b[0m\u001b[0;34m(\u001b[0m\u001b[0;34m)\u001b[0m\u001b[0;34m\u001b[0m\u001b[0;34m\u001b[0m\u001b[0m\n\u001b[0m\u001b[1;32m    198\u001b[0m     \u001b[0mcursor\u001b[0m\u001b[0;34m.\u001b[0m\u001b[0mclose\u001b[0m\u001b[0;34m(\u001b[0m\u001b[0;34m)\u001b[0m\u001b[0;34m\u001b[0m\u001b[0;34m\u001b[0m\u001b[0m\n\u001b[1;32m    199\u001b[0m     return (\n",
      "\u001b[0;32m~/.local/lib/python3.9/site-packages/snowflake/connector/cursor.py\u001b[0m in \u001b[0;36mexecute\u001b[0;34m(self, command, params, _bind_stage, timeout, _exec_async, _do_reset, _put_callback, _put_azure_callback, _put_callback_output_stream, _get_callback, _get_azure_callback, _get_callback_output_stream, _show_progress_bar, _statement_params, _is_internal, _no_results, _use_ijson, _is_put_get, _raise_put_get_error, _force_put_overwrite, file_stream)\u001b[0m\n\u001b[1;32m    691\u001b[0m                 \u001b[0;34m\"sfqid\"\u001b[0m\u001b[0;34m:\u001b[0m \u001b[0mself\u001b[0m\u001b[0;34m.\u001b[0m\u001b[0m_sfqid\u001b[0m\u001b[0;34m,\u001b[0m\u001b[0;34m\u001b[0m\u001b[0;34m\u001b[0m\u001b[0m\n\u001b[1;32m    692\u001b[0m             }\n\u001b[0;32m--> 693\u001b[0;31m             Error.errorhandler_wrapper(\n\u001b[0m\u001b[1;32m    694\u001b[0m                 \u001b[0mself\u001b[0m\u001b[0;34m.\u001b[0m\u001b[0mconnection\u001b[0m\u001b[0;34m,\u001b[0m \u001b[0mself\u001b[0m\u001b[0;34m,\u001b[0m \u001b[0mProgrammingError\u001b[0m\u001b[0;34m,\u001b[0m \u001b[0merrvalue\u001b[0m\u001b[0;34m\u001b[0m\u001b[0;34m\u001b[0m\u001b[0m\n\u001b[1;32m    695\u001b[0m             )\n",
      "\u001b[0;32m~/.local/lib/python3.9/site-packages/snowflake/connector/errors.py\u001b[0m in \u001b[0;36merrorhandler_wrapper\u001b[0;34m(connection, cursor, error_class, error_value)\u001b[0m\n\u001b[1;32m    256\u001b[0m         \u001b[0;32mif\u001b[0m \u001b[0mcursor\u001b[0m \u001b[0;32mis\u001b[0m \u001b[0;32mnot\u001b[0m \u001b[0;32mNone\u001b[0m\u001b[0;34m:\u001b[0m\u001b[0;34m\u001b[0m\u001b[0;34m\u001b[0m\u001b[0m\n\u001b[1;32m    257\u001b[0m             \u001b[0mcursor\u001b[0m\u001b[0;34m.\u001b[0m\u001b[0mmessages\u001b[0m\u001b[0;34m.\u001b[0m\u001b[0mappend\u001b[0m\u001b[0;34m(\u001b[0m\u001b[0;34m(\u001b[0m\u001b[0merror_class\u001b[0m\u001b[0;34m,\u001b[0m \u001b[0merror_value\u001b[0m\u001b[0;34m)\u001b[0m\u001b[0;34m)\u001b[0m\u001b[0;34m\u001b[0m\u001b[0;34m\u001b[0m\u001b[0m\n\u001b[0;32m--> 258\u001b[0;31m             \u001b[0mcursor\u001b[0m\u001b[0;34m.\u001b[0m\u001b[0merrorhandler\u001b[0m\u001b[0;34m(\u001b[0m\u001b[0mconnection\u001b[0m\u001b[0;34m,\u001b[0m \u001b[0mcursor\u001b[0m\u001b[0;34m,\u001b[0m \u001b[0merror_class\u001b[0m\u001b[0;34m,\u001b[0m \u001b[0merror_value\u001b[0m\u001b[0;34m)\u001b[0m\u001b[0;34m\u001b[0m\u001b[0;34m\u001b[0m\u001b[0m\n\u001b[0m\u001b[1;32m    259\u001b[0m             \u001b[0;32mreturn\u001b[0m\u001b[0;34m\u001b[0m\u001b[0;34m\u001b[0m\u001b[0m\n\u001b[1;32m    260\u001b[0m         \u001b[0;32melif\u001b[0m \u001b[0mconnection\u001b[0m \u001b[0;32mis\u001b[0m \u001b[0;32mnot\u001b[0m \u001b[0;32mNone\u001b[0m\u001b[0;34m:\u001b[0m\u001b[0;34m\u001b[0m\u001b[0;34m\u001b[0m\u001b[0m\n",
      "\u001b[0;32m~/.local/lib/python3.9/site-packages/snowflake/connector/errors.py\u001b[0m in \u001b[0;36mdefault_errorhandler\u001b[0;34m(connection, cursor, error_class, error_value)\u001b[0m\n\u001b[1;32m    186\u001b[0m             \u001b[0mA\u001b[0m \u001b[0mSnowflake\u001b[0m \u001b[0merror\u001b[0m\u001b[0;34m.\u001b[0m\u001b[0;34m\u001b[0m\u001b[0;34m\u001b[0m\u001b[0m\n\u001b[1;32m    187\u001b[0m         \"\"\"\n\u001b[0;32m--> 188\u001b[0;31m         raise error_class(\n\u001b[0m\u001b[1;32m    189\u001b[0m             \u001b[0mmsg\u001b[0m\u001b[0;34m=\u001b[0m\u001b[0merror_value\u001b[0m\u001b[0;34m.\u001b[0m\u001b[0mget\u001b[0m\u001b[0;34m(\u001b[0m\u001b[0;34m\"msg\"\u001b[0m\u001b[0;34m)\u001b[0m\u001b[0;34m,\u001b[0m\u001b[0;34m\u001b[0m\u001b[0;34m\u001b[0m\u001b[0m\n\u001b[1;32m    190\u001b[0m             \u001b[0merrno\u001b[0m\u001b[0;34m=\u001b[0m\u001b[0merror_value\u001b[0m\u001b[0;34m.\u001b[0m\u001b[0mget\u001b[0m\u001b[0;34m(\u001b[0m\u001b[0;34m\"errno\"\u001b[0m\u001b[0;34m)\u001b[0m\u001b[0;34m,\u001b[0m\u001b[0;34m\u001b[0m\u001b[0;34m\u001b[0m\u001b[0m\n",
      "\u001b[0;31mProgrammingError\u001b[0m: 000904 (42000): SQL compilation error: error line 1 at position 85\ninvalid identifier '\"date\"'"
     ]
    }
   ],
   "source": [
    "write_pandas(conn, results_df, \"BIKE_COUNT\")"
   ]
  },
  {
   "cell_type": "code",
   "execution_count": null,
   "id": "46ddf6e9-21ab-44c3-9fc9-b0f6c45933a9",
   "metadata": {},
   "outputs": [],
   "source": []
  }
 ],
 "metadata": {
  "kernelspec": {
   "display_name": "Python 3",
   "language": "python",
   "name": "python3"
  },
  "language_info": {
   "codemirror_mode": {
    "name": "ipython",
    "version": 3
   },
   "file_extension": ".py",
   "mimetype": "text/x-python",
   "name": "python",
   "nbconvert_exporter": "python",
   "pygments_lexer": "ipython3",
   "version": "3.9.0"
  }
 },
 "nbformat": 4,
 "nbformat_minor": 5
}
